{
 "cells": [
  {
   "cell_type": "markdown",
   "metadata": {},
   "source": [
    "将txt转化为tsv"
   ]
  },
  {
   "cell_type": "code",
   "execution_count": 10,
   "metadata": {},
   "outputs": [],
   "source": [
    "import pandas as pd\n",
    "\n",
    "# 输入的.txt文件\n",
    "input_file = 'C:/Users/Lenovo/Desktop/MyCode/Visualization/air1_fon_lle4.txt'  \n",
    "\n",
    "# 输出的.tsv文件\n",
    "output_file = 'C:/Users/Lenovo/Desktop/MyCode/Visualization/TSV/air1_fon_lle4.tsv'     \n",
    "\n",
    "# 读取txt文件\n",
    "df = pd.read_csv(input_file, sep=' ', header=None, skiprows=1)\n",
    "\n",
    "# 将DataFrame写入tsv文件\n",
    "df.to_csv(output_file, sep='\\t', index=False, header=False)"
   ]
  },
  {
   "cell_type": "markdown",
   "metadata": {},
   "source": [
    "将tsv文件按照每行的第一列大小排序，然后重新输出tsv"
   ]
  },
  {
   "cell_type": "code",
   "execution_count": 11,
   "metadata": {},
   "outputs": [],
   "source": [
    "import pandas as pd\n",
    "\n",
    "input_file = 'C:/Users/Lenovo/Desktop/MyCode/Visualization/TSV/air1_fon_lle4.tsv'\n",
    "output_file = 'C:/Users/Lenovo/Desktop/MyCode/Visualization/TSV/air1_fon_lle4_sort.tsv'\n",
    "\n",
    "# 读取tsv文件\n",
    "df = pd.read_csv(input_file, sep='\\t', header=None)\n",
    "\n",
    "# 按照第一列排序\n",
    "df = df.sort_values(by=0)\n",
    "\n",
    "# 去掉第一列\n",
    "df = df.drop(0, axis=1)\n",
    "\n",
    "# 将排序后的DataFrame写入tsv文件\n",
    "df.to_csv(output_file, sep='\\t', index=False, header=False)"
   ]
  },
  {
   "cell_type": "code",
   "execution_count": 26,
   "metadata": {},
   "outputs": [],
   "source": [
    "import pandas as pd\n",
    "\n",
    "# 输入的.txt文件\n",
    "input_file_txt = 'C:/Users/Lenovo/Desktop/MyCode/Visualization/processing_hon_deepWalk2.txt'  \n",
    "\n",
    "# 读取txt文件\n",
    "df = pd.read_csv(input_file_txt, sep=' ', header=None, skiprows=1)\n",
    "\n",
    "# 按照第一列排序\n",
    "df = df.sort_values(by=0)\n",
    "\n",
    "# 去掉第一列\n",
    "df = df.drop(0, axis=1)\n",
    "\n",
    "# 输出的排序后的tsv文件\n",
    "output_file_sorted_tsv = 'C:/Users/Lenovo/Desktop/MyCode/Visualization/TSV/processing_hon_deepWalk2_sort.tsv'\n",
    "\n",
    "# 将排序后的DataFrame写入tsv文件\n",
    "df.to_csv(output_file_sorted_tsv, sep='\\t', index=False, header=False)"
   ]
  }
 ],
 "metadata": {
  "kernelspec": {
   "display_name": "BuildHON",
   "language": "python",
   "name": "python3"
  },
  "language_info": {
   "codemirror_mode": {
    "name": "ipython",
    "version": 3
   },
   "file_extension": ".py",
   "mimetype": "text/x-python",
   "name": "python",
   "nbconvert_exporter": "python",
   "pygments_lexer": "ipython3",
   "version": "3.8.16"
  }
 },
 "nbformat": 4,
 "nbformat_minor": 2
}
